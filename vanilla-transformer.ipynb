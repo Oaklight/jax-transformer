{
 "cells": [
  {
   "cell_type": "code",
   "execution_count": 1,
   "id": "bd1cf01a-6e62-4bb8-843e-1d6dadd961ea",
   "metadata": {},
   "outputs": [],
   "source": [
    "import jax\n",
    "import jax.numpy as jnp\n",
    "import numpy as np\n",
    "import haiku as hk\n",
    "from einops import rearrange, repeat"
   ]
  },
  {
   "cell_type": "code",
   "execution_count": 2,
   "id": "1f21fa3c-afe2-4b60-912b-05f68746fbdf",
   "metadata": {},
   "outputs": [],
   "source": [
    "from typing import Optional, Any, Sequence\n",
    "import dataclasses"
   ]
  },
  {
   "cell_type": "code",
   "execution_count": 3,
   "id": "01f2f158-e832-4b5b-8851-2973d9da9722",
   "metadata": {},
   "outputs": [],
   "source": [
    "import matplotlib.pyplot as plt"
   ]
  },
  {
   "cell_type": "markdown",
   "id": "0698ba69-2cbc-41df-98d8-aa34d126b6ef",
   "metadata": {
    "tags": []
   },
   "source": [
    "# Implementations"
   ]
  },
  {
   "cell_type": "markdown",
   "id": "e09365f8-f7d6-46dc-8323-26d25d433a57",
   "metadata": {},
   "source": [
    "## MultiHeadAttention"
   ]
  },
  {
   "cell_type": "code",
   "execution_count": 4,
   "id": "bca12e32-dcfc-4dae-ada0-d20a03fc67b7",
   "metadata": {},
   "outputs": [],
   "source": [
    "class MultiHeadAttention(hk.Module):\n",
    "    def __init__(\n",
    "        self,\n",
    "        num_heads: int,\n",
    "        key_size: Optional[int]=None,\n",
    "        value_size: Optional[int]=None,\n",
    "        model_size: Optional[int]=None,\n",
    "    ):\n",
    "        super().__init__()\n",
    "        self.num_heads = num_heads\n",
    "        self.key_size = key_size or (model_size // num_heads) if model_size is not None else None\n",
    "        self.value_size = value_size or key_size\n",
    "        self.model_size = model_size or (key_size * num_heads) if key_size is not None else None\n",
    "        assert self.model_size or self.key_size is not None, \"must provide at least one of `key_value`, `model_size`\"\n",
    "        assert key_size * num_heads == model_size, \"Must satisfy `key_size * num_heads == model_size`\"\n",
    "    \n",
    "    @hk.transparent\n",
    "    def __linear(\n",
    "        self,\n",
    "        x: jnp.ndarray, # [b, n_q, embed_size] \n",
    "        head_size: int,\n",
    "    ) -> jnp.ndarray: # [b, num_head, n_q, head_size]\n",
    "        '''\n",
    "        map a single embedded input sequence into a size `num_heads` collection of featured tensors\n",
    "        shape change: [b, n, embed_size] -> [b, n, num_heads*head_size] -> [b, num_heads, n, head_size]\n",
    "        - b: batch_size\n",
    "        - n: sequence length\n",
    "        '''\n",
    "        y = hk.Linear(self.num_heads * head_size)(x) # shape of y: [b, n, num_heads*head_size]\n",
    "        return rearrange(y, 'b n (h d) -> b h n d', h=self.num_heads) # shape of return: [b, num_heads, n, head_size]\n",
    "    \n",
    "    def __call__(\n",
    "        self,\n",
    "        q_input: jnp.ndarray, # shape: [b, n_q, embed_size]\n",
    "        k_input: jnp.ndarray, # shape: [b, n_k, embed_size]\n",
    "        v_input: jnp.ndarray, # shape: [b, n_k, embed_size]\n",
    "        mask: Optional[jnp.ndarray] = None, # shape: [b, 1, n_q, n_k]\n",
    "    ) -> jnp.ndarray:\n",
    "        '''\n",
    "        - map embedded input sequences (q_input, k_input, v_input) into multi-headed featured tensors (q, k, v)\n",
    "        - compute attention weights by \"compatible function of queries and keys\": w_ij = (q_ik*k_jk) / sqrt(key_size)\n",
    "        - compute \"weighted sum of values\": ret_ij = w_ik * v_kj\n",
    "        - map concatenated \"weighted sum of values\" to a feature tensor\n",
    "        '''\n",
    "        q = self.__linear(q_input, self.key_size) # shape: [b, n_q, embed_size] -> [b, num_head, n_q, key_size]\n",
    "        k = self.__linear(k_input, self.key_size) # shape: [b, n_k, embed_size] -> [b, num_head, n_k, key_size]\n",
    "        v = self.__linear(v_input, self.value_size) # shape: [b, n_k, embed_size] -> [b, num_head, n_k, value_size]\n",
    "        # Q: why n_k not n_v?\n",
    "        # A: key value pairs are one to one mapping, n_v == n_k\n",
    "        \n",
    "        attn_weights = jnp.einsum('bhik, bhjk -> bhij', q, k) # shape: [b, h, n_q, key_size] @ [b, h, n_k, key_size] -> [b, h, n_q, n_k]\n",
    "        attn_weights /= jnp.sqrt(self.key_size)\n",
    "        \n",
    "        if mask is not None:\n",
    "            assert mask.ndim == attn_weights.ndim, f\"Mask dimensionality {mask.ndim} must match attention weights dimensionality {attn_weights.ndim}\"\n",
    "            attn_weights = jnp.where(mask, attn_weights, -1e30)\n",
    "        attn_weights = jax.nn.softmax(attn_weights) # [b, h, n_q, n_k]\n",
    "        \n",
    "        weighted_v = jnp.einsum('bhik, bhkd -> bhid', attn_weights, v) # shape: [b, h, n_q, n_k] @ [b, h, n_k, value_size] -> [b, h, n_q, value_size]\n",
    "        weighted_v = rearrange(weighted_v, 'b h n v -> b n (h v)') # shape: [b, h, n_q, value_size] -> [b, n_q, h*value_size]\n",
    "        \n",
    "        v_ret = hk.Linear(self.model_size)(weighted_v) # shape: [b, n_q, h*value_size] -> [b, n_q, model_size]\n",
    "        return v_ret"
   ]
  },
  {
   "cell_type": "markdown",
   "id": "5224faf0-1510-4faf-9718-5e917bd9bc90",
   "metadata": {},
   "source": [
    "## FFN"
   ]
  },
  {
   "cell_type": "code",
   "execution_count": 5,
   "id": "9fc0aa98-4040-4c8c-8c49-6af142e5afa6",
   "metadata": {},
   "outputs": [],
   "source": [
    "class FFN(hk.Module):\n",
    "    def __init__(\n",
    "        self,\n",
    "        model_size: int,\n",
    "        hidden_size: int,\n",
    "        dropout_rate: float = 0.1,\n",
    "    ):\n",
    "        super().__init__()\n",
    "        self.wb1 = hk.Linear(hidden_size) # W1 & b1\n",
    "        self.wb2 = hk.Linear(model_size) # W2 & b2\n",
    "        self.dropout_rate = dropout_rate\n",
    "        \n",
    "    def __call__(\n",
    "        self,\n",
    "        x: jnp.ndarray,\n",
    "    ) -> jnp.ndarray:\n",
    "        y = self.wb1(x) # xW1 + b1\n",
    "        y = jax.nn.relu(y) # max(0, xW1 + b1)\n",
    "        y = self.wb2(y) # max(0, xW1 + b1)W2 + b2\n",
    "        y = hk.dropout(hk.next_rng_key(), self.dropout_rate, y)\n",
    "        return y"
   ]
  },
  {
   "cell_type": "markdown",
   "id": "94e1cb1c-2f51-4dbb-9d9c-7f410d56c8e5",
   "metadata": {},
   "source": [
    "## Positional Encoding"
   ]
  },
  {
   "cell_type": "code",
   "execution_count": 6,
   "id": "384a28b4-3b16-4670-be21-23688e797efd",
   "metadata": {},
   "outputs": [],
   "source": [
    "@dataclasses.dataclass\n",
    "class PositionalEncoding(hk.initializers.Initializer):\n",
    "    '''\n",
    "    - has the same model_size as embedding\n",
    "    - use sine and cosine functions of different frequencies:\n",
    "        - PE(pos, 2i) = sin(pos/10000^(2i/model_size))\n",
    "        - PE(pos, 2i+1) = cos(pos/10000^(2i/model_size))\n",
    "    '''\n",
    "    def __call__(\n",
    "        self,\n",
    "        shape: Sequence[int],\n",
    "        dtype: Any = np.float32,\n",
    "    ) -> jnp.ndarray:\n",
    "        max_len, model_size = shape\n",
    "        pe = np.zeros((max_len, model_size), dtype=dtype)\n",
    "        # pos = np.expand_dims(np.arange(0, max_len), 1)\n",
    "        pos = np.arange(0, max_len)[:,np.newaxis]\n",
    "        div_term = np.exp(np.arange(0, model_size, 2) * \n",
    "                         -(np.log(10000.) / model_size)) # 1/(10000^(2i/model_size)) = 10000^(-2i/model_size) = exp(-2i * ln(10000) / model_size)\n",
    "        pe[:, 0::2] = np.sin(pos * div_term)\n",
    "        pe[:, 1::2] = np.cos(pos * div_term)\n",
    "        pe = jnp.array(pe[np.newaxis:])\n",
    "        pe = jax.lax.stop_gradient(pe) # this is a frozen parameter\n",
    "        \n",
    "        return pe\n",
    "        \n",
    "        # print(type(x))\n",
    "        # x = x + self.pe[:, :x.size(1)]\n",
    "        # return hk.dropout(hk.next_rng_key(), self.dropout_rate, x)"
   ]
  },
  {
   "cell_type": "markdown",
   "id": "b3111b43-770d-4b3e-8e6f-6fc5f6d2cc1a",
   "metadata": {},
   "source": [
    "## Embeddings"
   ]
  },
  {
   "cell_type": "code",
   "execution_count": 41,
   "id": "0d35d09e-022b-45dc-bda7-f92698b923b3",
   "metadata": {},
   "outputs": [],
   "source": [
    "class Embeddings(hk.Module):\n",
    "    def __init__(\n",
    "        self,\n",
    "        model_size: int,\n",
    "        vocab_size: int,\n",
    "        embedding_matrix: Optional[jnp.ndarray] = None,\n",
    "    ):\n",
    "        '''\n",
    "        if embedding-tying, then use generator's weights as embedding_matrix\n",
    "        '''\n",
    "        super().__init__()\n",
    "        if embedding_matrix is None:\n",
    "            self.embed = hk.Embed(\n",
    "                vocab_size=vocab_size,\n",
    "                embed_dim=model_size,\n",
    "            )\n",
    "        else:\n",
    "            self.embed = hk.Embed(\n",
    "                embedding_matrix=embedding_matrix\n",
    "            )\n",
    "        self.model_size = model_size\n",
    "    \n",
    "    def get_embedding_matrix(\n",
    "        self,\n",
    "    ) -> jnp.ndarray:\n",
    "        return self.embed.embeddings\n",
    "    \n",
    "    def __call__(\n",
    "        self,\n",
    "        x: jnp.ndarray # shape [b, n]\n",
    "    ) -> jnp.ndarray: # shape [b, n, embed_size], embed_size == model_size\n",
    "        '''\n",
    "        - In our model, we share the same weight matrix between the two embedding layers and the pre-softmax linear transformation\n",
    "        - \"In the embedding layers, we multiply those weights by sqrt(model_size)\"\n",
    "        '''    \n",
    "        return self.embed(x) * jnp.sqrt(self.model_size)"
   ]
  },
  {
   "cell_type": "markdown",
   "id": "94ebd8d1-59f9-4fc4-9601-e4b4c63b9274",
   "metadata": {},
   "source": [
    "## TransformerConfig"
   ]
  },
  {
   "cell_type": "code",
   "execution_count": 8,
   "id": "d4e2cf0e-02c4-47a5-97f3-5d27ccaf6e3a",
   "metadata": {},
   "outputs": [],
   "source": [
    "@dataclasses.dataclass\n",
    "class TransformerConfig:\n",
    "    '''\n",
    "    global hyperparameters used to minimize obnoxious kwarg plumbing\n",
    "    '''\n",
    "    input_vocab_size: int\n",
    "    output_vocab_size: int\n",
    "    model_size: int = 512\n",
    "    num_heads: int = 8\n",
    "    num_layers: int = 6\n",
    "    hidden_size: int = 2048\n",
    "    dropout_rate: float = 0.1\n",
    "    src_pad_token: int = 0\n",
    "    tgt_pad_token: int = 0\n",
    "    \n",
    "    def __post_init__(self):\n",
    "        '''\n",
    "        sanity check and compute missing hyperparameters\n",
    "        '''\n",
    "        # recall the `rearrange` function in multi-head attention: `b n (hd) -> b h n d`\n",
    "        self.key_size = self.model_size // self.num_heads\n",
    "        # this is because the transformer is designed to have same-size key and value, \n",
    "        #     not because attention module should have same-size key and value\n",
    "        self.value_size = self.key_size\n",
    "    \n",
    "    def __repr__(self):\n",
    "        '''\n",
    "        print out all hyperparameters\n",
    "        '''\n",
    "        return str(self.__dict__)"
   ]
  },
  {
   "cell_type": "markdown",
   "id": "b21c63e0-21c1-4499-a4f5-3b78b2b21fa9",
   "metadata": {},
   "source": [
    "## Encoder"
   ]
  },
  {
   "cell_type": "code",
   "execution_count": 9,
   "id": "6fa2f314-4074-49aa-875f-1919a596f19b",
   "metadata": {},
   "outputs": [],
   "source": [
    "def layer_norm(x: jnp.ndarray) -> jnp.ndarray:\n",
    "    '''\n",
    "    Applies a unique LayerNorm to x with default settings.\n",
    "    '''\n",
    "    ln = hk.LayerNorm(axis=-1, create_scale=True, create_offset=True)\n",
    "    return ln(x)\n",
    "\n",
    "@dataclasses.dataclass\n",
    "class Encoder(hk.Module):\n",
    "    config: TransformerConfig\n",
    "    \n",
    "    def __post_init__(\n",
    "        self,\n",
    "    ):\n",
    "        super().__init__()\n",
    "        config = self.config\n",
    "        self.embedding = Embeddings(\n",
    "            model_size=config.model_size,\n",
    "            vocab_size=config.input_vocab_size,\n",
    "        )\n",
    "        \n",
    "    def __call__(\n",
    "        self,\n",
    "        inputs: jnp.ndarray, # [b, n]\n",
    "        src_mask: Optional[jnp.ndarray] = None, # [b, 1, n, n]\n",
    "        is_training: bool = True,\n",
    "    ) -> jnp.ndarray:\n",
    "        config = self.config\n",
    "        dropout_rate = config.dropout_rate if is_training else 0\n",
    "\n",
    "        # embedding the input sequence\n",
    "        seq_len = inputs.shape[-1]\n",
    "        pos_embed = hk.get_parameter(\"positional_embeddings\", \n",
    "                                     [seq_len, config.model_size],\n",
    "                                     init=PositionalEncoding())\n",
    "        h_embed = self.embedding(inputs.astype('int32')) + pos_embed\n",
    "        # we apply dropout to the sums of the embeddings and the positional encodings in both the encoder and decoder stacks\n",
    "        h_embed = hk.dropout(hk.next_rng_key(), dropout_rate, h_embed) # [b, n, embed_size], embed_size == model_size\n",
    "        \n",
    "        h = h_embed\n",
    "        for _ in range(config.num_layers):\n",
    "            \n",
    "            # multi-head attention SUBLAYER\n",
    "            attn_block = MultiHeadAttention(\n",
    "                num_heads=config.num_heads,\n",
    "                key_size=config.key_size,\n",
    "                model_size=config.model_size,\n",
    "            )\n",
    "            # We apply dropout to the output of each sub-layer, before it is added to the sub-layer input and normalized.\n",
    "            h_attn = attn_block(h, \n",
    "                                h, \n",
    "                                h, \n",
    "                                mask=src_mask) # [b, n, model_size]\n",
    "            h_attn = hk.dropout(hk.next_rng_key(), dropout_rate, h_attn)\n",
    "            h = layer_norm(h + h_attn)\n",
    "            \n",
    "            # position-wise ffn SUBLAYER\n",
    "            ffn_block = FFN(\n",
    "                model_size=config.model_size,\n",
    "                hidden_size=config.hidden_size,\n",
    "                dropout_rate=config.dropout_rate,\n",
    "            )\n",
    "            # We apply dropout to the output of each sub-layer, before it is added to the sub-layer input and normalized.\n",
    "            h_dense = ffn_block(h) # [b, n, model_size]\n",
    "            h_dense = hk.dropout(hk.next_rng_key(), dropout_rate, h_dense)\n",
    "            h = layer_norm(h + h_dense) # [b, n, model_size]\n",
    "        \n",
    "        return h"
   ]
  },
  {
   "cell_type": "markdown",
   "id": "f59573fd-8fb2-4ffb-b13c-f047454bf71f",
   "metadata": {},
   "source": [
    "## Decoder"
   ]
  },
  {
   "cell_type": "code",
   "execution_count": 44,
   "id": "1d4baca6-9e18-4200-a59e-983e0328bd0e",
   "metadata": {},
   "outputs": [],
   "source": [
    "@dataclasses.dataclass\n",
    "class Decoder(hk.Module):\n",
    "    config: TransformerConfig\n",
    "    \n",
    "    def __post_init__(\n",
    "        self,\n",
    "    ):\n",
    "        super().__init__()\n",
    "        config = self.config\n",
    "        self.embedding = Embeddings(\n",
    "            model_size=config.model_size,\n",
    "            vocab_size=config.output_vocab_size,\n",
    "        )\n",
    "    \n",
    "    def __call__(\n",
    "        self,\n",
    "        inputs: jnp.ndarray, # [b, n_k]\n",
    "        enc_outputs: jnp.ndarray, # [b, n_q, model_size], encoder output of src_embed\n",
    "        tgt_mask: Optional[jnp.ndarray] = None, # [b, 1, n_k, n_k]\n",
    "        tgt_src_mask: Optional[jnp.ndarray] = None, # [b, 1, n_k, n_q]\n",
    "        is_training: bool = True,\n",
    "    ) -> jnp.ndarray:\n",
    "        config = self.config\n",
    "        dropout_rate = config.dropout_rate if is_training else 0\n",
    "\n",
    "        # embedding the input sequence\n",
    "        seq_len = inputs.shape[-1]\n",
    "        pos_embed = hk.get_parameter(\"positional_embeddings\", \n",
    "                                     [seq_len, config.model_size],\n",
    "                                     init=PositionalEncoding())\n",
    "        h_embed = self.embedding(inputs.astype('int32')) + pos_embed\n",
    "        # we apply dropout to the sums of the embeddings and the positional encodings in both the encoder and decoder stacks\n",
    "        h_embed = hk.dropout(hk.next_rng_key(), dropout_rate, h_embed) # [b, n_k, embed_size], embed_size == model_size\n",
    "        \n",
    "        h = h_embed # [b, n_k, embed_size]\n",
    "        for _ in range(config.num_layers):\n",
    "            \n",
    "            # multi-head attention SUBLAYER\n",
    "            attn_block = MultiHeadAttention(\n",
    "                num_heads=config.num_heads,\n",
    "                key_size=config.key_size,\n",
    "                model_size=config.model_size,\n",
    "            )\n",
    "            # We apply dropout to the output of each sub-layer, before it is added to the sub-layer input and normalized.\n",
    "            h_attn = attn_block(h,\n",
    "                                h,\n",
    "                                h,\n",
    "                                mask=tgt_mask)\n",
    "            h_attn = hk.dropout(hk.next_rng_key(), dropout_rate, h_attn) # [b, n_k, model_size]\n",
    "            h = layer_norm(h + h_attn)\n",
    "            \n",
    "            # multi-head cross attention SUBLAYER\n",
    "            cross_attn_block = MultiHeadAttention(\n",
    "                num_heads=config.num_heads,\n",
    "                key_size=config.key_size,\n",
    "                model_size=config.model_size,\n",
    "            )\n",
    "            # We apply dropout to the output of each sub-layer, before it is added to the sub-layer input and normalized.\n",
    "            h_attn = cross_attn_block(h, # [b, n_k, model_size]\n",
    "                                      enc_outputs, # [b, n_q, model_size]\n",
    "                                      enc_outputs, \n",
    "                                      mask=tgt_src_mask)\n",
    "            h_attn = hk.dropout(hk.next_rng_key(), dropout_rate, h_attn) # [b, n_k, model_size]\n",
    "            h = layer_norm(h + h_attn)\n",
    "            \n",
    "            # position-wise ffn SUBLAYER\n",
    "            ffn_block = FFN(\n",
    "                model_size=config.model_size,\n",
    "                hidden_size=config.hidden_size,\n",
    "                dropout_rate=config.dropout_rate,\n",
    "            )\n",
    "            # We apply dropout to the output of each sub-layer, before it is added to the sub-layer input and normalized.\n",
    "            h_dense = ffn_block(h) # [b, n_k, model_size]\n",
    "            h_dense = hk.dropout(hk.next_rng_key(), dropout_rate, h_dense)\n",
    "            h = layer_norm(h + h_dense) # [b, n_k, model_size]\n",
    "            \n",
    "        return h"
   ]
  },
  {
   "cell_type": "markdown",
   "id": "67bb8f91-fc35-4d4c-8e79-c7a001b6cecf",
   "metadata": {},
   "source": [
    "## Transformer"
   ]
  },
  {
   "cell_type": "code",
   "execution_count": 25,
   "id": "066aa09f-64bb-4970-b9ab-58910cc21b28",
   "metadata": {},
   "outputs": [],
   "source": [
    "@dataclasses.dataclass\n",
    "class Transformer(hk.Module):\n",
    "    config: TransformerConfig\n",
    "    is_training: bool\n",
    "    \n",
    "    def __post_init__(self):\n",
    "        '''\n",
    "        setup each components, embeddings is called on the fly\n",
    "        '''\n",
    "        super().__init__() # for dataclass decorated modules, this still should be called manually\n",
    "        config = self.config\n",
    "        \n",
    "        self.encoder = Encoder(config=config)\n",
    "        self.decoder = Decoder(config=config)\n",
    "        \n",
    "        def generator(x: jnp.ndarray): # weight sharing between embeddings and the final linear layer\n",
    "            embedding_matrix = self.decoder.embedding.get_embedding_matrix()\n",
    "            return jnp.dot(x, embedding_matrix.T)\n",
    "        \n",
    "        self.generator = generator\n",
    "        \n",
    "    def __call__(\n",
    "        self,\n",
    "        src_inputs: jnp.ndarray, # [b, n_q]\n",
    "        tgt_inputs: jnp.ndarray, # [b, n_k]\n",
    "        src_mask: Optional[jnp.ndarray] = None, # [b, n_q]\n",
    "        tgt_mask: Optional[jnp.ndarray] = None, # [b, n_k]\n",
    "        is_training: bool = True,\n",
    "    ) -> jnp.ndarray:\n",
    "        \n",
    "        if is_training != self.is_training:\n",
    "            self.is_training = is_training\n",
    "        print(f'model is in {\"training\" if self.is_training else \"evaluation\"} mode.')\n",
    "        src_pad_token = self.config.src_pad_token\n",
    "        tgt_pad_token = self.config.tgt_pad_token\n",
    "        \n",
    "        # ============= encoder =============\n",
    "        if src_mask is None:\n",
    "            _src_mask = jnp.einsum('bi, bj -> bij', src_inputs!=src_pad_token, src_inputs!=src_pad_token)[:, None, :] # shape [b, n_q] -> [b, n_q, n_q] -> [b, 1, n_q, n_q]\n",
    "        else:\n",
    "            _src_mask = jnp.einsum('bi, bj -> bij', src_mask, src_mask)[:, None, :] # shape [b, n_q] -> [b, n_q, n_q] -> [b, 1, n_q, n_q]\n",
    "        \n",
    "        enc_outputs = self.encoder(\n",
    "            inputs=src_inputs,\n",
    "            src_mask=_src_mask,\n",
    "            is_training=self.is_training,\n",
    "        ) # [b, n_q, model_size]\n",
    "        \n",
    "        # ============= decoder =============\n",
    "        if tgt_mask is None:\n",
    "            _tgt_mask = jnp.einsum('bi, bj -> bij', tgt_inputs!=tgt_pad_token, tgt_inputs!=tgt_pad_token)[:, None, :] # shape [b, n_k] -> [b, n_k, n_k] -> [b, 1, n_k, n_k]\n",
    "        else:\n",
    "            _tgt_mask = jnp.einsum('bi, bj -> bij', tgt_mask, tgt_mask)[:, None, :] # shape [b, n_k] -> [b, n_k, n_k] -> [b, 1, n_k, n_k]\n",
    "        seq_len = tgt_inputs.shape[-1]\n",
    "        # causal_mask = np.tril(np.ones_like(_tgt_mask)) # [b, 1, n_k, n_k]\n",
    "        causal_mask = np.tril(np.ones((1, 1, seq_len, seq_len))) # [b, 1, n_k, n_k]\n",
    "        _tgt_mask = _tgt_mask * causal_mask\n",
    "        if tgt_mask is None:\n",
    "            tgt_src_mask = jnp.einsum('bi, bj -> bij', tgt_inputs!=tgt_pad_token, src_inputs!=src_pad_token)[:, None, :] # shape [b, n_k, n_q] -> [b, 1, n_k, n_q]\n",
    "        else:\n",
    "            tgt_src_mask = jnp.einsum('bi, bj -> bij', tgt_mask, src_mask)[:, None, :] # shape [b, n_k, n_q] -> [b, 1, n_k, n_q]\n",
    "        \n",
    "        dec_outputs = self.decoder(\n",
    "            inputs=tgt_inputs,\n",
    "            enc_outputs=enc_outputs,\n",
    "            tgt_mask=_tgt_mask,\n",
    "            tgt_src_mask=tgt_src_mask,\n",
    "            is_training=self.is_training,\n",
    "        ) # [b, n_k, model_size]\n",
    "        \n",
    "        return self.generator(dec_outputs) # shape [b, n_k, vocab_size]"
   ]
  },
  {
   "cell_type": "markdown",
   "id": "70381fd2-965a-4d8e-bdc4-375ee8d4b847",
   "metadata": {
    "tags": []
   },
   "source": [
    "# Test modules"
   ]
  },
  {
   "cell_type": "code",
   "execution_count": 4,
   "id": "c85d9a5b-a66b-46c6-8ff4-006595768f26",
   "metadata": {},
   "outputs": [],
   "source": [
    "from model import *"
   ]
  },
  {
   "cell_type": "markdown",
   "id": "4bcc78bf-5844-4e57-a8d8-ca843753a04b",
   "metadata": {
    "tags": []
   },
   "source": [
    "## TransformerConfig"
   ]
  },
  {
   "cell_type": "code",
   "execution_count": 5,
   "id": "36b6d11c-4784-4e69-9489-84b4ce4b54d6",
   "metadata": {
    "tags": []
   },
   "outputs": [
    {
     "name": "stdout",
     "output_type": "stream",
     "text": [
      "{'input_vocab_size': 25007, 'output_vocab_size': 25007, 'model_size': 512, 'num_heads': 8, 'num_layers': 2, 'hidden_size': 1024, 'dropout_rate': 0.1, 'key_size': 64, 'value_size': 64}\n"
     ]
    }
   ],
   "source": [
    "# TransformerConfig\n",
    "configuration = TransformerConfig(\n",
    "    input_vocab_size=25007,\n",
    "    output_vocab_size=25007,\n",
    "    model_size=512,\n",
    "    num_heads=8,\n",
    "    num_layers=2,\n",
    "    hidden_size=1024,\n",
    "    dropout_rate=0.1\n",
    ")\n",
    "print(configuration)"
   ]
  },
  {
   "cell_type": "markdown",
   "id": "8b02b442-bacd-4e65-ae02-01f5bd6103bf",
   "metadata": {},
   "source": [
    "## positional encoding"
   ]
  },
  {
   "cell_type": "code",
   "execution_count": 6,
   "id": "c63fa975-b005-4fc7-ab54-fbe6391b4778",
   "metadata": {},
   "outputs": [
    {
     "name": "stdout",
     "output_type": "stream",
     "text": [
      "<class 'jaxlib.xla_extension.DeviceArray'>\n",
      "<class 'jaxlib.xla_extension.DeviceArray'>\n",
      "CPU times: user 0 ns, sys: 1.71 ms, total: 1.71 ms\n",
      "Wall time: 1.67 ms\n"
     ]
    },
    {
     "data": {
      "text/plain": [
       "[<matplotlib.lines.Line2D at 0x7f96aba47d30>,\n",
       " <matplotlib.lines.Line2D at 0x7f96aba33910>,\n",
       " <matplotlib.lines.Line2D at 0x7f96aba337c0>,\n",
       " <matplotlib.lines.Line2D at 0x7f96902ef2e0>]"
      ]
     },
     "execution_count": 6,
     "metadata": {},
     "output_type": "execute_result"
    },
    {
     "data": {
      "image/png": "[encoded data removed]",
      "text/plain": [
       "<Figure size 1080x360 with 1 Axes>"
      ]
     },
     "metadata": {
      "needs_background": "light"
     },
     "output_type": "display_data"
    }
   ],
   "source": [
    "# test positional embedding correctness\n",
    "def forward_fn(embed):\n",
    "    _, seq_len, model_size = embed.shape\n",
    "    pos_embed = hk.get_parameter(\"positional_embeddings\", [seq_len, model_size], init=PositionalEncoding())\n",
    "    print(type(pos_embed))\n",
    "    return embed + pos_embed \n",
    "\n",
    "forward = hk.transform(forward_fn)\n",
    "rngkey = jax.random.PRNGKey(42)\n",
    "dummy_x = jnp.zeros((1, 100, 20))\n",
    "params = forward.init(rng = rngkey, embed=dummy_x)\n",
    "%time output = forward.apply(params, rng=rngkey, embed=dummy_x)\n",
    "plt.figure(figsize=(15, 5))\n",
    "plt.plot(np.arange(100), output[0, :, 4:8])"
   ]
  },
  {
   "cell_type": "markdown",
   "id": "48b884e0-686c-4bba-ade1-e4fe78ccfec8",
   "metadata": {},
   "source": [
    "## Embeddings"
   ]
  },
  {
   "cell_type": "code",
   "execution_count": 7,
   "id": "c7694783-16a9-4979-b85f-7510221e5925",
   "metadata": {},
   "outputs": [
    {
     "name": "stdout",
     "output_type": "stream",
     "text": [
      "CPU times: user 6.78 ms, sys: 0 ns, total: 6.78 ms\n",
      "Wall time: 5.83 ms\n"
     ]
    }
   ],
   "source": [
    "# Embeddings\n",
    "def forward_fn(inputs):\n",
    "    embed = Embeddings(model_size=512, vocab_size=50200)\n",
    "    return embed(inputs)\n",
    "\n",
    "forward = hk.transform(forward_fn)\n",
    "rngkey = jax.random.PRNGKey(42)\n",
    "dummy_x = repeat(np.arange(10), 'i -> c i', c=3)\n",
    "params = forward.init(rng = rngkey, inputs=dummy_x)\n",
    "%time output = forward.apply(params, rng=rngkey, inputs=dummy_x)"
   ]
  },
  {
   "cell_type": "code",
   "execution_count": 8,
   "id": "56d1ce95-58bc-41d6-afe4-ebcd7eaf4d9c",
   "metadata": {},
   "outputs": [
    {
     "data": {
      "text/plain": [
       "(3, 10, 512)"
      ]
     },
     "execution_count": 8,
     "metadata": {},
     "output_type": "execute_result"
    }
   ],
   "source": [
    "output.shape"
   ]
  },
  {
   "cell_type": "markdown",
   "id": "1028f4a9-6d2a-4b39-9ee7-05b3d91f4e65",
   "metadata": {},
   "source": [
    "## FFN"
   ]
  },
  {
   "cell_type": "code",
   "execution_count": 9,
   "id": "403957de-d5f9-4207-896f-61bf967457a3",
   "metadata": {},
   "outputs": [
    {
     "name": "stdout",
     "output_type": "stream",
     "text": [
      "CPU times: user 9.39 ms, sys: 4.64 ms, total: 14 ms\n",
      "Wall time: 12.8 ms\n"
     ]
    }
   ],
   "source": [
    "# FFN: [b, n, model_size] -> [b, n, model_size]\n",
    "def forward_fn(x):\n",
    "    ffn = FFN(\n",
    "        model_size=configuration.model_size,\n",
    "        hidden_size=configuration.hidden_size,\n",
    "        dropout_rate=configuration.dropout_rate,\n",
    "    )\n",
    "    return ffn(x)\n",
    "\n",
    "forward = hk.transform(forward_fn)\n",
    "rngkey = jax.random.PRNGKey(42)\n",
    "dummy_x = jnp.ones((2, 10, configuration.model_size))\n",
    "params = forward.init(rng = rngkey, x=dummy_x)\n",
    "%time output = forward.apply(params, rng=rngkey, x=dummy_x)"
   ]
  },
  {
   "cell_type": "code",
   "execution_count": 10,
   "id": "c1acb424-6558-4c4a-9997-e529fa94a732",
   "metadata": {},
   "outputs": [
    {
     "data": {
      "text/plain": [
       "(2, 10, 512)"
      ]
     },
     "execution_count": 10,
     "metadata": {},
     "output_type": "execute_result"
    }
   ],
   "source": [
    "output.shape"
   ]
  },
  {
   "cell_type": "code",
   "execution_count": 11,
   "id": "d836cf9f-89f5-4d26-909a-a84554390647",
   "metadata": {},
   "outputs": [
    {
     "data": {
      "text/plain": [
       "DeviceArray(False, dtype=bool)"
      ]
     },
     "execution_count": 11,
     "metadata": {},
     "output_type": "execute_result"
    }
   ],
   "source": [
    "jnp.array_equal(dummy_x, output)"
   ]
  },
  {
   "cell_type": "markdown",
   "id": "2126a5c2-c004-4717-a65e-1f019e4e8926",
   "metadata": {},
   "source": [
    "## MultiHeadAttention"
   ]
  },
  {
   "cell_type": "code",
   "execution_count": 12,
   "id": "9e4d86be-c02e-4cf1-9f3e-29335dbc84ca",
   "metadata": {},
   "outputs": [
    {
     "name": "stdout",
     "output_type": "stream",
     "text": [
      "CPU times: user 10.8 ms, sys: 0 ns, total: 10.8 ms\n",
      "Wall time: 9.59 ms\n"
     ]
    }
   ],
   "source": [
    "def forward_fn(\n",
    "    q: jnp.ndarray, # shape: [b, n_q, embed_size]\n",
    "    k: jnp.ndarray, # shape: [b, n_k, embed_size]\n",
    "    v: jnp.ndarray, # shape: [b, n_k, embed_size]\n",
    "    mask: Optional[jnp.ndarray] = None, # shape: [b, 1, n_q, n_k]\n",
    "):\n",
    "    key_size = k.shape[-1] // configuration.num_heads\n",
    "    value_size = v.shape[-1] // configuration.num_heads\n",
    "    mha = MultiHeadAttention(\n",
    "        num_heads=configuration.num_heads,\n",
    "        key_size=key_size,\n",
    "        value_size=value_size,\n",
    "        model_size=configuration.model_size,\n",
    "    )\n",
    "    return mha(q, k, v, mask)\n",
    "\n",
    "forward = hk.transform(forward_fn)\n",
    "rngkey = jax.random.PRNGKey(42)\n",
    "dummy_q = jnp.ones((2, 15, configuration.model_size))\n",
    "dummy_k = jnp.ones((2, 12, configuration.model_size))\n",
    "dummy_v = jnp.ones((2, 12, configuration.model_size*2))\n",
    "params = forward.init(rng=rngkey, q=dummy_q, k=dummy_k, v=dummy_v)\n",
    "%time output = forward.apply(params, rng=rngkey, q=dummy_q, k=dummy_k, v=dummy_v)"
   ]
  },
  {
   "cell_type": "code",
   "execution_count": 13,
   "id": "b3ec6a33-021a-42d1-8171-3bac50474492",
   "metadata": {},
   "outputs": [
    {
     "data": {
      "text/plain": [
       "(2, 15, 512)"
      ]
     },
     "execution_count": 13,
     "metadata": {},
     "output_type": "execute_result"
    }
   ],
   "source": [
    "output.shape"
   ]
  },
  {
   "cell_type": "markdown",
   "id": "58384104-fddd-498e-9bb6-312802dce0cb",
   "metadata": {},
   "source": [
    "## Encoder"
   ]
  },
  {
   "cell_type": "code",
   "execution_count": 14,
   "id": "b16dbc47-8c68-4a0a-b241-649f6632d607",
   "metadata": {},
   "outputs": [
    {
     "name": "stdout",
     "output_type": "stream",
     "text": [
      "CPU times: user 42.9 ms, sys: 6.36 ms, total: 49.3 ms\n",
      "Wall time: 38 ms\n"
     ]
    }
   ],
   "source": [
    "def forward_fn(\n",
    "    src_inputs: jnp.ndarray, # [b, n_q]\n",
    "    src_mask: Optional[jnp.ndarray] = None, # [b, 1, n_q, n_q]\n",
    "    is_training: bool = True,\n",
    "):\n",
    "    \n",
    "    key_size = configuration.model_size // configuration.num_heads\n",
    "    \n",
    "    encoder = Encoder(config=configuration)\n",
    "    \n",
    "    return encoder(src_inputs, src_mask, is_training)\n",
    "\n",
    "forward = hk.transform(forward_fn)\n",
    "rngkey = jax.random.PRNGKey(42)\n",
    "src_inputs = np.ones((2, 1000))\n",
    "src_inputs[1,500:600] = 0\n",
    "src_mask = jnp.einsum('bi, bj -> bij', src_inputs>0, src_inputs>0)[:, None, :] # shape [b, n] -> [b, n, n] -> [b, 1, n, n]\n",
    "\n",
    "\n",
    "params = forward.init(rng = rngkey, src_inputs=src_inputs, src_mask=src_mask, is_training=True)\n",
    "%time output = forward.apply(params, rng=rngkey, src_inputs=src_inputs, src_mask=src_mask, is_training=True)"
   ]
  },
  {
   "cell_type": "code",
   "execution_count": 15,
   "id": "22e44f88-b46d-4944-993b-01e2b72d93cf",
   "metadata": {},
   "outputs": [
    {
     "name": "stdout",
     "output_type": "stream",
     "text": [
      "CPU times: user 59.5 ms, sys: 6.35 ms, total: 65.9 ms\n",
      "Wall time: 51.6 ms\n"
     ]
    }
   ],
   "source": [
    "%time enc_outputs = forward.apply(params, rng=rngkey, src_inputs=src_inputs, src_mask=src_mask, is_training=True)"
   ]
  },
  {
   "cell_type": "code",
   "execution_count": 16,
   "id": "dd6f4653-c407-4dda-97d3-4dda6af8de87",
   "metadata": {},
   "outputs": [
    {
     "data": {
      "text/plain": [
       "(2, 1000, 512)"
      ]
     },
     "execution_count": 16,
     "metadata": {},
     "output_type": "execute_result"
    }
   ],
   "source": [
    "enc_outputs.shape"
   ]
  },
  {
   "cell_type": "code",
   "execution_count": 17,
   "id": "775b14c1-206b-4a01-a2a3-fb76b659da92",
   "metadata": {},
   "outputs": [
    {
     "data": {
      "text/plain": [
       "DeviceArray(True, dtype=bool)"
      ]
     },
     "execution_count": 17,
     "metadata": {},
     "output_type": "execute_result"
    }
   ],
   "source": [
    "jnp.array_equal(output,enc_outputs)"
   ]
  },
  {
   "cell_type": "markdown",
   "id": "849e80ff-1c15-409a-b620-56c1d20548ce",
   "metadata": {},
   "source": [
    "## Decoder"
   ]
  },
  {
   "cell_type": "code",
   "execution_count": 18,
   "id": "45d9f827-036a-4d6e-a6cc-e6e13c4c4311",
   "metadata": {},
   "outputs": [],
   "source": [
    "def forward_fn(\n",
    "    tgt_inputs: jnp.ndarray, # [b, n_k, embed_size], embed_size == model_size\n",
    "    enc_outputs: jnp.ndarray, # [b, n_q, model_size], encoder output of src_embed\n",
    "    tgt_mask: Optional[jnp.ndarray] = None, # [b, 1, n_k, n_k]\n",
    "    tgt_src_mask: Optional[jnp.ndarray] = None, # [b, 1, n_k, n_q]\n",
    "    is_training: bool = True,\n",
    "):\n",
    "    \n",
    "    key_size = configuration.model_size // configuration.num_heads\n",
    "    \n",
    "    decoder = Decoder(config=configuration)\n",
    "    \n",
    "    return decoder(\n",
    "        tgt_inputs, enc_outputs, tgt_mask, tgt_src_mask, is_training\n",
    "    )\n",
    "\n",
    "forward = hk.transform(forward_fn)\n",
    "rngkey = jax.random.PRNGKey(42)\n",
    "tgt_inputs = np.ones((2, 800))\n",
    "tgt_inputs[1,700:] = 0\n",
    "\n",
    "tgt_mask = jnp.einsum('bi, bj -> bij', tgt_inputs>0, tgt_inputs>0)[:, None, :] # shape [b, 1, n_k, n_k]\n",
    "tgt_src_mask = jnp.einsum('bi, bj -> bij', tgt_inputs>0, src_inputs>0)[:, None, :] # shape [b, 1, n_k, n_q]\n",
    "\n",
    "params = forward.init(rng = rngkey, tgt_inputs=tgt_inputs, enc_outputs=enc_outputs, tgt_mask=tgt_mask, tgt_src_mask=tgt_src_mask, is_training=True)"
   ]
  },
  {
   "cell_type": "code",
   "execution_count": 19,
   "id": "2eea8fae-f506-415e-ac13-c5e0930117dc",
   "metadata": {},
   "outputs": [
    {
     "name": "stdout",
     "output_type": "stream",
     "text": [
      "CPU times: user 108 ms, sys: 2.69 ms, total: 111 ms\n",
      "Wall time: 89.4 ms\n"
     ]
    }
   ],
   "source": [
    "%time dec_outputs = forward.apply(params, rng=rngkey, tgt_inputs=tgt_inputs, enc_outputs=enc_outputs, tgt_mask=tgt_mask, tgt_src_mask=tgt_src_mask, is_training=True)"
   ]
  },
  {
   "cell_type": "code",
   "execution_count": 20,
   "id": "de01c582-e617-4194-8d05-4d3528ec9274",
   "metadata": {},
   "outputs": [
    {
     "data": {
      "text/plain": [
       "(2, 800, 512)"
      ]
     },
     "execution_count": 20,
     "metadata": {},
     "output_type": "execute_result"
    }
   ],
   "source": [
    "dec_outputs.shape"
   ]
  },
  {
   "cell_type": "markdown",
   "id": "db0d3c03-8da0-452f-98d5-639242cb92b4",
   "metadata": {},
   "source": [
    "## Transformer"
   ]
  },
  {
   "cell_type": "code",
   "execution_count": 21,
   "id": "f9412ea1-3302-4508-87a6-63d66faec387",
   "metadata": {},
   "outputs": [
    {
     "data": {
      "text/plain": [
       "(2, 1000)"
      ]
     },
     "execution_count": 21,
     "metadata": {},
     "output_type": "execute_result"
    }
   ],
   "source": [
    "src_inputs.shape"
   ]
  },
  {
   "cell_type": "code",
   "execution_count": 22,
   "id": "3a49e2b6-88d9-4702-99ff-bcd364099b5c",
   "metadata": {},
   "outputs": [
    {
     "data": {
      "text/plain": [
       "(2, 800)"
      ]
     },
     "execution_count": 22,
     "metadata": {},
     "output_type": "execute_result"
    }
   ],
   "source": [
    "tgt_inputs.shape"
   ]
  },
  {
   "cell_type": "code",
   "execution_count": 23,
   "id": "3deb3629-5e1c-4f89-9232-f57f53518616",
   "metadata": {},
   "outputs": [
    {
     "name": "stdout",
     "output_type": "stream",
     "text": [
      "{'input_vocab_size': 25007, 'output_vocab_size': 25007, 'model_size': 512, 'num_heads': 8, 'num_layers': 2, 'hidden_size': 1024, 'dropout_rate': 0.1, 'key_size': 64, 'value_size': 64}\n",
      "model is in training mode.\n"
     ]
    }
   ],
   "source": [
    "def forward_fn(\n",
    "    src_inputs: jnp.ndarray,\n",
    "    tgt_inputs: jnp.ndarray,\n",
    "    is_training: bool,\n",
    "    config: TransformerConfig,\n",
    "):\n",
    "    print(config)\n",
    "    model = Transformer(\n",
    "        config=config,\n",
    "        is_training=is_training,\n",
    "    )\n",
    "    return model(src_inputs, tgt_inputs, is_training)\n",
    "\n",
    "forward = hk.transform(forward_fn)\n",
    "rngkey = jax.random.PRNGKey(42)\n",
    "\n",
    "params = forward.init(rng = rngkey, src_inputs=src_inputs, tgt_inputs=tgt_inputs, is_training=True, config=configuration)"
   ]
  },
  {
   "cell_type": "code",
   "execution_count": 24,
   "id": "8608ce51-9bfa-458d-a1d1-08549ecbca6b",
   "metadata": {},
   "outputs": [
    {
     "data": {
      "text/plain": [
       "(25007, 512)"
      ]
     },
     "execution_count": 24,
     "metadata": {},
     "output_type": "execute_result"
    }
   ],
   "source": [
    "params['transformer/~/decoder/~/embeddings/~/embed']['embeddings'].shape"
   ]
  },
  {
   "cell_type": "code",
   "execution_count": 25,
   "id": "37e70d47-782a-4b0e-b686-a3698bf6c484",
   "metadata": {},
   "outputs": [
    {
     "name": "stdout",
     "output_type": "stream",
     "text": [
      "{'input_vocab_size': 25007, 'output_vocab_size': 25007, 'model_size': 512, 'num_heads': 8, 'num_layers': 2, 'hidden_size': 1024, 'dropout_rate': 0.1, 'key_size': 64, 'value_size': 64}\n",
      "model is in training mode.\n",
      "CPU times: user 150 ms, sys: 20.2 ms, total: 170 ms\n",
      "Wall time: 140 ms\n"
     ]
    }
   ],
   "source": [
    "%time output = forward.apply(params, rng=rngkey, src_inputs=src_inputs, tgt_inputs=tgt_inputs, is_training=True, config=configuration)"
   ]
  },
  {
   "cell_type": "code",
   "execution_count": 26,
   "id": "99bab9f8-dc51-413c-87bb-a9c2e41cc803",
   "metadata": {},
   "outputs": [
    {
     "data": {
      "text/plain": [
       "(2, 800, 25007)"
      ]
     },
     "execution_count": 26,
     "metadata": {},
     "output_type": "execute_result"
    }
   ],
   "source": [
    "output.shape"
   ]
  },
  {
   "cell_type": "markdown",
   "id": "070e35ef-e594-4d28-b6f4-86d7ef105b17",
   "metadata": {},
   "source": [
    "# Training"
   ]
  },
  {
   "cell_type": "code",
   "execution_count": null,
   "id": "a3716060-2f6d-4e95-a583-ca0d40b31d34",
   "metadata": {},
   "outputs": [
    {
     "ename": "TypeError",
     "evalue": "TransformerConfig.__init__() got an unexpected keyword argument 'vocab_size'",
     "output_type": "error",
     "traceback": [
      "\u001b[0;31m---------------------------------------------------------------------------\u001b[0m",
      "\u001b[0;31mTypeError\u001b[0m                                 Traceback (most recent call last)",
      "Input \u001b[0;32mIn [28]\u001b[0m, in \u001b[0;36m<cell line: 2>\u001b[0;34m()\u001b[0m\n\u001b[1;32m      1\u001b[0m \u001b[38;5;66;03m# TransformerConfig\u001b[39;00m\n\u001b[0;32m----> 2\u001b[0m configuration \u001b[38;5;241m=\u001b[39m \u001b[43mTransformerConfig\u001b[49m\u001b[43m(\u001b[49m\n\u001b[1;32m      3\u001b[0m \u001b[43m    \u001b[49m\u001b[43mvocab_size\u001b[49m\u001b[38;5;241;43m=\u001b[39;49m\u001b[38;5;241;43m128\u001b[39;49m\u001b[43m,\u001b[49m\u001b[43m \u001b[49m\u001b[38;5;66;43;03m# since we are using the ASCII\u001b[39;49;00m\n\u001b[1;32m      4\u001b[0m \u001b[43m    \u001b[49m\u001b[43mmodel_size\u001b[49m\u001b[38;5;241;43m=\u001b[39;49m\u001b[38;5;241;43m512\u001b[39;49m\u001b[43m,\u001b[49m\n\u001b[1;32m      5\u001b[0m \u001b[43m    \u001b[49m\u001b[43mnum_heads\u001b[49m\u001b[38;5;241;43m=\u001b[39;49m\u001b[38;5;241;43m8\u001b[39;49m\u001b[43m,\u001b[49m\n\u001b[1;32m      6\u001b[0m \u001b[43m    \u001b[49m\u001b[43mnum_layers\u001b[49m\u001b[38;5;241;43m=\u001b[39;49m\u001b[38;5;241;43m6\u001b[39;49m\u001b[43m,\u001b[49m\n\u001b[1;32m      7\u001b[0m \u001b[43m    \u001b[49m\u001b[43mhidden_size\u001b[49m\u001b[38;5;241;43m=\u001b[39;49m\u001b[38;5;241;43m2048\u001b[39;49m\u001b[43m,\u001b[49m\n\u001b[1;32m      8\u001b[0m \u001b[43m    \u001b[49m\u001b[43mdropout_rate\u001b[49m\u001b[38;5;241;43m=\u001b[39;49m\u001b[38;5;241;43m0.1\u001b[39;49m\n\u001b[1;32m      9\u001b[0m \u001b[43m)\u001b[49m\n\u001b[1;32m     10\u001b[0m configuration\n",
      "\u001b[0;31mTypeError\u001b[0m: TransformerConfig.__init__() got an unexpected keyword argument 'vocab_size'"
     ]
    }
   ],
   "source": [
    "# TransformerConfig\n",
    "configuration = TransformerConfig(\n",
    "    vocab_size=128, # since we are using the ASCII\n",
    "    model_size=512,\n",
    "    num_heads=8,\n",
    "    num_layers=6,\n",
    "    hidden_size=2048,\n",
    "    dropout_rate=0.1\n",
    ")\n",
    "configuration"
   ]
  },
  {
   "cell_type": "code",
   "execution_count": null,
   "id": "00f0e7fa-9fb9-4c7d-8fa0-5665ffd0c83f",
   "metadata": {},
   "outputs": [],
   "source": [
    "from typing import NamedTuple\n",
    "import optax"
   ]
  },
  {
   "cell_type": "code",
   "execution_count": null,
   "id": "ef715fe0-417a-46a4-8870-8e4ddfbb2c98",
   "metadata": {},
   "outputs": [],
   "source": [
    "@dataclasses.dataclass\n",
    "class TrainingState(NamedTuple):\n",
    "    params: hk.Params\n",
    "    opt_state: optax.OptState\n",
    "    rng: jnp.DeviceArray\n",
    "    step: jnp.DeviceArray"
   ]
  },
  {
   "cell_type": "code",
   "execution_count": null,
   "id": "26d339f2-7869-4ca1-bb3c-21272232260f",
   "metadata": {},
   "outputs": [],
   "source": [
    "def forward_fn(\n",
    "    src_inputs: jnp.ndarray,\n",
    "    tgt_inputs: jnp.ndarray,\n",
    "    is_training: bool,\n",
    "    config: TransformerConfig,\n",
    "):\n",
    "    model = Transformer(\n",
    "        config=config,\n",
    "        is_training=is_training,\n",
    "    )\n",
    "    return model(src_inputs, tgt_inputs)"
   ]
  },
  {
   "cell_type": "code",
   "execution_count": null,
   "id": "24138952-bc92-4c6d-ab10-23191b2cf0c3",
   "metadata": {},
   "outputs": [],
   "source": [
    "GRAD_CLIP_VALUE = 1\n",
    "LEARNING_RATE = 3e-4\n",
    "\n",
    "optimizer = optax.chain(\n",
    "    optax.clip_by_global_norm(GRAD_CLIP_VALUE),\n",
    "    optax.adam(LEARNING_RATE)\n",
    ")"
   ]
  },
  {
   "cell_type": "code",
   "execution_count": null,
   "id": "23c1073a-4942-4ffc-b618-8a6cfa500d72",
   "metadata": {},
   "outputs": [],
   "source": [
    "from tokenizers import Tokenizer\n",
    "from tokenizers.models import BPE\n",
    "tokenizer = Tokenizer(BPE(unk_token=\"[UNK]\"))"
   ]
  },
  {
   "cell_type": "code",
   "execution_count": null,
   "id": "0627b8a9-23f2-4f6a-90b9-3867f62ebd3c",
   "metadata": {},
   "outputs": [],
   "source": [
    "from tokenizers.trainers import BpeTrainer\n",
    "trainer = BpeTrainer(special_tokens=[\"[UNK]\", \"[CLS]\", \"[SEP]\", \"[PAD]\", \"[MASK]\"])"
   ]
  },
  {
   "cell_type": "code",
   "execution_count": null,
   "id": "b54b4af7-56b5-4c6f-97c1-19690ce63645",
   "metadata": {},
   "outputs": [],
   "source": [
    "from tokenizers.pre_tokenizers import Whitespace\n",
    "tokenizer.pre_tokenizer = Whitespace()"
   ]
  },
  {
   "cell_type": "code",
   "execution_count": null,
   "id": "1e914e84-3fdb-4ced-86ac-17957a763f95",
   "metadata": {
    "tags": []
   },
   "outputs": [],
   "source": [
    "from datasets import load_dataset\n",
    "\n",
    "# wendarray wmt18\n",
    "dataset = load_dataset(\"wmt14\", 'de-en', split=\"train\")"
   ]
  },
  {
   "cell_type": "code",
   "execution_count": null,
   "id": "ec86f771-61eb-4d6e-b1f4-0351f16a0598",
   "metadata": {},
   "outputs": [],
   "source": [
    "dataset[0]"
   ]
  },
  {
   "cell_type": "code",
   "execution_count": null,
   "id": "2432b70e-2ac4-4999-bbe6-156bd5858ce7",
   "metadata": {},
   "outputs": [],
   "source": [
    "def batch_iterator(dataset):\n",
    "    for i in dataset:\n",
    "        yield i[\"text\"]\n",
    "\n",
    "tokenizer.train_from_iterator(\n",
    "    iterator=batch_iterator(dataset),\n",
    ")"
   ]
  },
  {
   "cell_type": "code",
   "execution_count": null,
   "id": "3ab6f86e-f0c9-40cb-9fa7-86609926767a",
   "metadata": {},
   "outputs": [],
   "source": [
    "@hk.transform\n",
    "def loss_fn(data) -> jnp.ndarray:\n",
    "    \n",
    "    logits = forward_fn(\n",
    "        \n",
    "    )"
   ]
  }
 ],
 "metadata": {
  "kernelspec": {
   "display_name": "Python [conda env:dls2022]",
   "language": "python",
   "name": "conda-env-dls2022-py"
  },
  "language_info": {
   "codemirror_mode": {
    "name": "ipython",
    "version": 3
   },
   "file_extension": ".py",
   "mimetype": "text/x-python",
   "name": "python",
   "nbconvert_exporter": "python",
   "pygments_lexer": "ipython3",
   "version": "3.10.4"
  },
  "toc-autonumbering": true,
  "toc-showmarkdowntxt": true,
  "toc-showtags": true
 },
 "nbformat": 4,
 "nbformat_minor": 5
}
